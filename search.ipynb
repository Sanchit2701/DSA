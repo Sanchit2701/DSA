{
 "cells": [
  {
   "cell_type": "code",
   "execution_count": 1,
   "id": "cb46e373",
   "metadata": {},
   "outputs": [
    {
     "name": "stdout",
     "output_type": "stream",
     "text": [
      "output=  2\n"
     ]
    }
   ],
   "source": [
    "#brute force method/linear search\n",
    "def locate_card(cards,query):\n",
    "    \n",
    "    l=len(cards)\n",
    "    for i in range(l):\n",
    "        if cards[i]==query:\n",
    "            print(\"output= \",i)\n",
    "            break\n",
    "        elif cards[i]==cards[-1]:\n",
    "            print(\"query not found\")\n",
    "            \n",
    "cards=[11,9,7,6,3,1,0]\n",
    "query=7\n",
    "\n",
    "locate_card(cards,query)"
   ]
  },
  {
   "cell_type": "code",
   "execution_count": 4,
   "id": "fe0f498a",
   "metadata": {},
   "outputs": [],
   "source": [
    "#binary search for descending array\n",
    "def locate_cardb(cards,query):\n",
    "    lo,hi=0,len(cards)-1\n",
    "    \n",
    "    while lo<=hi:\n",
    "        mid=(lo+hi)//2\n",
    "        if cards[mid]==query:\n",
    "            return mid\n",
    "        \n",
    "        elif cards[mid]>query:\n",
    "            lo=mid+1\n",
    "        \n",
    "        elif cards[mid]<query:\n",
    "            hi=mid-1\n",
    "    return -1\n",
    "    \n",
    "     "
   ]
  },
  {
   "cell_type": "code",
   "execution_count": 9,
   "id": "e3087f50",
   "metadata": {},
   "outputs": [
    {
     "name": "stdout",
     "output_type": "stream",
     "text": [
      "cards: [11, 9, 7, 6, 3, 1, 0] \n",
      "query: 7 \n",
      "position: 2\n"
     ]
    }
   ],
   "source": [
    "print(\"cards:\",cards,\"\\nquery:\",query,\"\\nposition:\",locate_cardb(cards,query))"
   ]
  },
  {
   "cell_type": "code",
   "execution_count": null,
   "id": "04d99faf",
   "metadata": {},
   "outputs": [],
   "source": [
    "def test_location()"
   ]
  }
 ],
 "metadata": {
  "kernelspec": {
   "display_name": "Python 3 (ipykernel)",
   "language": "python",
   "name": "python3"
  },
  "language_info": {
   "codemirror_mode": {
    "name": "ipython",
    "version": 3
   },
   "file_extension": ".py",
   "mimetype": "text/x-python",
   "name": "python",
   "nbconvert_exporter": "python",
   "pygments_lexer": "ipython3",
   "version": "3.9.13"
  }
 },
 "nbformat": 4,
 "nbformat_minor": 5
}
